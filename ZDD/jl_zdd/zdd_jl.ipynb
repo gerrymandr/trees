{
 "cells": [
  {
   "cell_type": "code",
   "execution_count": 1,
   "metadata": {},
   "outputs": [
    {
     "name": "stderr",
     "output_type": "stream",
     "text": [
      "\u001b[32m\u001b[1m Activating\u001b[22m\u001b[39m environment at `~/.julia/environments/zdd/Project.toml`\n"
     ]
    }
   ],
   "source": [
    "using Pkg; Pkg.activate(\"zdd\", shared=true)\n",
    "using LightGraphs\n",
    "using GraphPlot\n",
    "using Compose\n",
    "using Random\n",
    "using Traceur\n",
    "using BenchmarkTools\n",
    "using StatProfilerHTML"
   ]
  },
  {
   "cell_type": "code",
   "execution_count": 6,
   "metadata": {},
   "outputs": [
    {
     "data": {
      "text/plain": [
       "adjust_node! (generic function with 1 method)"
      ]
     },
     "execution_count": 6,
     "metadata": {},
     "output_type": "execute_result"
    }
   ],
   "source": [
    "# include(\"weightless.jl\")\n",
    "include(\"weighted.jl\")"
   ]
  },
  {
   "cell_type": "code",
   "execution_count": 14,
   "metadata": {},
   "outputs": [
    {
     "name": "stdout",
     "output_type": "stream",
     "text": [
      "Constructing a half-ZDD...\n",
      "  0.017077 seconds (24.74 k allocations: 2.123 MiB)\n",
      "Constructing a half-ZDD...\n",
      "  0.014161 seconds (24.76 k allocations: 2.159 MiB)\n"
     ]
    }
   ],
   "source": [
    "m = 5\n",
    "dims = [m,m]\n",
    "k = m\n",
    "d = 0\n",
    "acceptable = m-d:m+d\n",
    "g = grid(dims)\n",
    "g_edges = optimal_grid_edge_order_diags(g, dims[1], dims[2])\n",
    "forwards = convert_lightgraphs_edges_to_node_edges(g_edges)\n",
    "backwards = reverse(forwards)\n",
    "\n",
    "frontiers = compute_all_frontiers(g, forwards)\n",
    "middle_frontier = frontiers[Int(ceil(length(frontiers)/2))]\n",
    "\n",
    "# @time zdd = construct_zdd(g, k, d, forwards)\n",
    "@time fnodes = construct_half_zdd(g, k, d, forwards); nothing\n",
    "@time bnodes = construct_half_zdd(g, k, d, backwards); nothing\n",
    "# count_paths(zdd)"
   ]
  },
  {
   "cell_type": "code",
   "execution_count": 15,
   "metadata": {},
   "outputs": [
    {
     "name": "stdout",
     "output_type": "stream",
     "text": [
      "  1.507757 seconds (16.31 M allocations: 790.128 MiB, 9.94% gc time)\n"
     ]
    }
   ],
   "source": [
    "@time frontier_projection_dict, merged_frontier_projection_dict, fps_dict, merged_fps_dict, intersection_dict = generate_dictionaries(fnodes, bnodes, middle_frontier); nothing"
   ]
  },
  {
   "cell_type": "code",
   "execution_count": 16,
   "metadata": {},
   "outputs": [
    {
     "name": "stdout",
     "output_type": "stream",
     "text": [
      " 10.856397 seconds (110.11 M allocations: 2.480 GiB, 3.63% gc time)\n"
     ]
    },
    {
     "data": {
      "text/plain": [
       "4006"
      ]
     },
     "execution_count": 16,
     "metadata": {},
     "output_type": "execute_result"
    }
   ],
   "source": [
    "@time count_paths_from_halfway(fnodes, bnodes, \n",
    "                               frontier_projection_dict, \n",
    "                               merged_frontier_projection_dict,\n",
    "                               fps_dict, merged_fps_dict,\n",
    "                               intersection_dict,\n",
    "                               acceptable, k, false)"
   ]
  },
  {
   "cell_type": "code",
   "execution_count": 18,
   "metadata": {},
   "outputs": [
    {
     "name": "stdout",
     "output_type": "stream",
     "text": [
      "Accepting districts with population in [5, 5]\n",
      "  0.068781 seconds (131.75 k allocations: 9.191 MiB)\n"
     ]
    }
   ],
   "source": [
    "@time zdd = construct_zdd(g, k, d, forwards); nothing"
   ]
  },
  {
   "cell_type": "code",
   "execution_count": 19,
   "metadata": {},
   "outputs": [
    {
     "name": "stdout",
     "output_type": "stream",
     "text": [
      "  0.004653 seconds (1.34 k allocations: 83.282 KiB)\n"
     ]
    },
    {
     "data": {
      "text/plain": [
       "4006"
      ]
     },
     "execution_count": 19,
     "metadata": {},
     "output_type": "execute_result"
    }
   ],
   "source": [
    "@time count_paths(zdd)"
   ]
  },
  {
   "cell_type": "code",
   "execution_count": null,
   "metadata": {},
   "outputs": [],
   "source": []
  }
 ],
 "metadata": {
  "kernelspec": {
   "display_name": "Julia 1.5.1",
   "language": "julia",
   "name": "julia-1.5"
  },
  "language_info": {
   "file_extension": ".jl",
   "mimetype": "application/julia",
   "name": "julia",
   "version": "1.5.1"
  }
 },
 "nbformat": 4,
 "nbformat_minor": 4
}
