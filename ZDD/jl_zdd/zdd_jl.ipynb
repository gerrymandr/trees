{
 "cells": [
  {
   "cell_type": "code",
   "execution_count": 1,
   "metadata": {},
   "outputs": [
    {
     "name": "stderr",
     "output_type": "stream",
     "text": [
      "\u001b[32m\u001b[1m Activating\u001b[22m\u001b[39m new environment at `~/.julia/environments/zdd/Project.toml`\n"
     ]
    }
   ],
   "source": [
    "using Pkg; Pkg.activate(\"zdd\", shared=true)\n",
    "using LightGraphs\n",
    "using GraphPlot\n",
    "using Compose\n",
    "using Random\n",
    "using Traceur\n",
    "using BenchmarkTools"
   ]
  },
  {
   "cell_type": "code",
   "execution_count": 58,
   "metadata": {},
   "outputs": [
    {
     "data": {
      "text/plain": [
       "adjust_node! (generic function with 1 method)"
      ]
     },
     "execution_count": 58,
     "metadata": {},
     "output_type": "execute_result"
    }
   ],
   "source": [
    "# include(\"weightless.jl\")\n",
    "include(\"weighted.jl\")"
   ]
  },
  {
   "cell_type": "code",
   "execution_count": 75,
   "metadata": {},
   "outputs": [
    {
     "name": "stdout",
     "output_type": "stream",
     "text": [
      "Constructing a half-ZDD...\n",
      " 15.644982 seconds (16.00 M allocations: 1.242 GiB, 6.91% gc time)\n",
      "Constructing a half-ZDD...\n",
      " 16.198733 seconds (16.00 M allocations: 1.242 GiB, 8.26% gc time)\n"
     ]
    }
   ],
   "source": [
    "m = 7\n",
    "dims = [m,m]\n",
    "k = m\n",
    "d = 0\n",
    "g = grid(dims)\n",
    "g_edges = optimal_grid_edge_order_diags(g, dims[1], dims[2])\n",
    "forwards = convert_lightgraphs_edges_to_node_edges(g_edges)\n",
    "backwards = reverse(forwards)\n",
    "\n",
    "frontiers = compute_all_frontiers(g, forwards)\n",
    "middle_frontier = frontiers[Int(ceil(length(frontiers)/2))]\n",
    "\n",
    "# @time zdd = construct_zdd(g, k, d, forwards)\n",
    "@time fnodes = construct_half_zdd(g, k, d, forwards)\n",
    "@time bnodes = construct_half_zdd(g, k, d, backwards); nothing\n",
    "# count_paths(zdd)"
   ]
  },
  {
   "cell_type": "code",
   "execution_count": 76,
   "metadata": {},
   "outputs": [
    {
     "data": {
      "text/plain": [
       "number_compatible (generic function with 2 methods)"
      ]
     },
     "execution_count": 76,
     "metadata": {},
     "output_type": "execute_result"
    }
   ],
   "source": []
  },
  {
   "cell_type": "code",
   "execution_count": null,
   "metadata": {},
   "outputs": [],
   "source": [
    "all_three = [\"weights\", \"fps\", \"cc\"]\n",
    "weights = [\"weights\"] # none seem to work\n",
    "fps = [\"fps\"] # all seem to work\n",
    "cc = [\"cc\"] # 40/81 work\n",
    "weights_fps = [\"weights\", \"fps\"]\n",
    "weights_cc = [\"weights\", \"cc\"]\n",
    "fps_cc = [\"fps\", \"cc\"]\n",
    "@time number_compatible(fnodes, bnodes, middle_frontier, 4:4, w, k, all_three)"
   ]
  },
  {
   "cell_type": "code",
   "execution_count": 47,
   "metadata": {},
   "outputs": [
    {
     "name": "stdout",
     "output_type": "stream",
     "text": [
      "Accepting districts with population in [3, 3]\n",
      "  0.002601 seconds (1.17 k allocations: 105.688 KiB)\n"
     ]
    }
   ],
   "source": [
    "# grid graph\n",
    "m = 3\n",
    "dims = [m, m]\n",
    "k = m\n",
    "d = 0\n",
    "contiguity = \"rook\"\n",
    "\n",
    "if contiguity == \"queen\"\n",
    "    g = queen_grid(dims)\n",
    "    g_edges = optimal_queen_grid_edge_order(g, dims[1], dims[2])\n",
    "else\n",
    "    g = grid(dims)\n",
    "    g_edges = optimal_grid_edge_order_diags(g, dims[1], dims[2])\n",
    "end\n",
    "\n",
    "g_edges = convert_lightgraphs_edges_to_node_edges(g_edges)\n",
    "@time zdd = construct_zdd(g, k, d, g_edges)\n",
    "nothing"
   ]
  },
  {
   "cell_type": "code",
   "execution_count": 48,
   "metadata": {},
   "outputs": [
    {
     "data": {
      "text/plain": [
       "10"
      ]
     },
     "execution_count": 48,
     "metadata": {},
     "output_type": "execute_result"
    }
   ],
   "source": [
    "count_paths(zdd)"
   ]
  },
  {
   "cell_type": "code",
   "execution_count": 49,
   "metadata": {},
   "outputs": [
    {
     "data": {
      "text/plain": [
       "79"
      ]
     },
     "execution_count": 49,
     "metadata": {},
     "output_type": "execute_result"
    }
   ],
   "source": [
    "num_nodes(zdd)"
   ]
  },
  {
   "cell_type": "code",
   "execution_count": null,
   "metadata": {},
   "outputs": [],
   "source": []
  }
 ],
 "metadata": {
  "kernelspec": {
   "display_name": "Julia 1.5.1",
   "language": "julia",
   "name": "julia-1.5"
  },
  "language_info": {
   "file_extension": ".jl",
   "mimetype": "application/julia",
   "name": "julia",
   "version": "1.5.1"
  }
 },
 "nbformat": 4,
 "nbformat_minor": 4
}
