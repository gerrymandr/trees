{
 "cells": [
  {
   "cell_type": "code",
   "execution_count": 1,
   "metadata": {},
   "outputs": [
    {
     "name": "stderr",
     "output_type": "stream",
     "text": [
      "\u001b[32m\u001b[1m Activating\u001b[22m\u001b[39m new environment at `~/.julia/environments/zdd/Project.toml`\n"
     ]
    }
   ],
   "source": [
    "using Pkg; Pkg.activate(\"zdd\", shared=true)\n",
    "using LightGraphs\n",
    "using GraphPlot\n",
    "using Compose\n",
    "using Random\n",
    "using Traceur\n",
    "using BenchmarkTools"
   ]
  },
  {
   "cell_type": "code",
   "execution_count": 2,
   "metadata": {},
   "outputs": [
    {
     "data": {
      "text/plain": [
       "adjust_node! (generic function with 1 method)"
      ]
     },
     "execution_count": 2,
     "metadata": {},
     "output_type": "execute_result"
    }
   ],
   "source": [
    "# include(\"weightless.jl\")\n",
    "include(\"weighted.jl\")"
   ]
  },
  {
   "cell_type": "code",
   "execution_count": 14,
   "metadata": {},
   "outputs": [
    {
     "name": "stdout",
     "output_type": "stream",
     "text": [
      "Constructing a half-ZDD...\n",
      "  0.001409 seconds (785 allocations: 78.484 KiB)\n",
      "Constructing a half-ZDD...\n",
      "  0.001356 seconds (899 allocations: 87.500 KiB)\n"
     ]
    }
   ],
   "source": [
    "m = 3\n",
    "dims = [m,m]\n",
    "k = m\n",
    "d = 1\n",
    "acceptable = m-d:m+d\n",
    "g = grid(dims)\n",
    "g_edges = optimal_grid_edge_order_diags(g, dims[1], dims[2])\n",
    "forwards = convert_lightgraphs_edges_to_node_edges(g_edges)\n",
    "backwards = reverse(forwards)\n",
    "\n",
    "frontiers = compute_all_frontiers(g, forwards)\n",
    "middle_frontier = frontiers[Int(ceil(length(frontiers)/2))]\n",
    "\n",
    "# @time zdd = construct_zdd(g, k, d, forwards)\n",
    "@time fnodes = construct_half_zdd(g, k, d, forwards)\n",
    "@time bnodes = construct_half_zdd(g, k, d, backwards); nothing\n",
    "# count_paths(zdd)"
   ]
  },
  {
   "cell_type": "code",
   "execution_count": 15,
   "metadata": {},
   "outputs": [
    {
     "data": {
      "text/plain": [
       "54"
      ]
     },
     "execution_count": 15,
     "metadata": {},
     "output_type": "execute_result"
    }
   ],
   "source": [
    "count_paths_from_halfway(fnodes, bnodes, middle_frontier, acceptable, k)"
   ]
  },
  {
   "cell_type": "code",
   "execution_count": null,
   "metadata": {},
   "outputs": [],
   "source": []
  }
 ],
 "metadata": {
  "kernelspec": {
   "display_name": "Julia 1.5.1",
   "language": "julia",
   "name": "julia-1.5"
  },
  "language_info": {
   "file_extension": ".jl",
   "mimetype": "application/julia",
   "name": "julia",
   "version": "1.5.1"
  }
 },
 "nbformat": 4,
 "nbformat_minor": 4
}
