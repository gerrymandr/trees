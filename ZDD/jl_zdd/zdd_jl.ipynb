{
 "cells": [
  {
   "cell_type": "code",
   "execution_count": 1,
   "metadata": {},
   "outputs": [
    {
     "name": "stderr",
     "output_type": "stream",
     "text": [
      "\u001b[32m\u001b[1m Activating\u001b[22m\u001b[39m new environment at `~/.julia/environments/zdd/Project.toml`\n"
     ]
    }
   ],
   "source": [
    "using Pkg; Pkg.activate(\"zdd\", shared=true)\n",
    "using LightGraphs\n",
    "using GraphPlot\n",
    "using Compose\n",
    "using Random\n",
    "using Traceur\n",
    "using BenchmarkTools"
   ]
  },
  {
   "cell_type": "code",
   "execution_count": 206,
   "metadata": {},
   "outputs": [
    {
     "data": {
      "text/plain": [
       "adjust_node! (generic function with 1 method)"
      ]
     },
     "execution_count": 206,
     "metadata": {},
     "output_type": "execute_result"
    }
   ],
   "source": [
    "# include(\"weightless.jl\")\n",
    "include(\"weighted.jl\")"
   ]
  },
  {
   "cell_type": "code",
   "execution_count": 219,
   "metadata": {},
   "outputs": [
    {
     "name": "stdout",
     "output_type": "stream",
     "text": [
      "Constructing a half-ZDD...\n",
      "  0.335368 seconds (540.15 k allocations: 44.193 MiB, 2.02% gc time)\n",
      "Constructing a half-ZDD...\n",
      "  0.321185 seconds (540.21 k allocations: 44.195 MiB, 6.78% gc time)\n"
     ]
    }
   ],
   "source": [
    "m = 6\n",
    "dims = [m,m]\n",
    "k = m\n",
    "d = 0\n",
    "acceptable = m-d:m+d\n",
    "g = grid(dims)\n",
    "g_edges = optimal_grid_edge_order_diags(g, dims[1], dims[2])\n",
    "forwards = convert_lightgraphs_edges_to_node_edges(g_edges)\n",
    "backwards = reverse(forwards)\n",
    "\n",
    "frontiers = compute_all_frontiers(g, forwards)\n",
    "middle_frontier = frontiers[Int(ceil(length(frontiers)/2))]\n",
    "\n",
    "# @time zdd = construct_zdd(g, k, d, forwards)\n",
    "@time fnodes = construct_half_zdd(g, k, d, forwards)\n",
    "@time bnodes = construct_half_zdd(g, k, d, backwards); nothing\n",
    "# count_paths(zdd)"
   ]
  },
  {
   "cell_type": "code",
   "execution_count": null,
   "metadata": {},
   "outputs": [],
   "source": [
    "@time count_paths_from_halfway(fnodes, bnodes, middle_frontier, acceptable, k, false)"
   ]
  },
  {
   "cell_type": "code",
   "execution_count": 202,
   "metadata": {},
   "outputs": [],
   "source": [
    "_D = collect(fnodes)[4]\n",
    "_10 = collect(bnodes)[10]\n",
    "\n",
    "_B = collect(fnodes)[2]\n",
    "_12 = collect(bnodes)[12]\n",
    "\n",
    "fnode = _B\n",
    "bnode = _12; nothing"
   ]
  },
  {
   "cell_type": "code",
   "execution_count": 203,
   "metadata": {},
   "outputs": [
    {
     "name": "stdout",
     "output_type": "stream",
     "text": [
      "Label: NodeEdge(3 -> 6)\n",
      "cc: 0\n",
      "fps: [\"ForbiddenPair(3 -> 7)\"]\n",
      "comp_assign: [0, 0, 3, 0, 7, 6, 7, 8, 9]\n",
      "comp_weights: [0, 0, 3, 0, 0, 1, 3, 1, 1]\n",
      "\n"
     ]
    }
   ],
   "source": [
    "node_summary(fnode)"
   ]
  },
  {
   "cell_type": "code",
   "execution_count": 204,
   "metadata": {},
   "outputs": [
    {
     "name": "stdout",
     "output_type": "stream",
     "text": [
      "Label: NodeEdge(4 -> 7)\n",
      "cc: 1\n",
      "fps: String[]\n",
      "comp_assign: [1, 2, 3, 4, 7, 0, 7, 0, 0]\n",
      "comp_weights: [1, 1, 1, 1, 0, 0, 3, 0, 0]\n",
      "\n"
     ]
    }
   ],
   "source": [
    "node_summary(bnode)"
   ]
  },
  {
   "cell_type": "code",
   "execution_count": 205,
   "metadata": {},
   "outputs": [
    {
     "name": "stdout",
     "output_type": "stream",
     "text": [
      "bset is: Set([3])\n",
      "Right now weights is: Dict{UInt8,Int64}(0x07 => -1,0x03 => -1,0x05 => -1)\n",
      "inside enumerate bset, w is: 0\n",
      "still inside, w is: 3\n",
      "after local_fnode etc. w is: 3\n",
      "w_bset is: 1\n",
      "w_intersection is: 1\n",
      "U_frontier is Set(Any[0x03])\n",
      "End of loop block weights is: Dict{UInt8,Int64}(0x07 => -1,0x03 => 3,0x05 => -1)\n",
      "bset is: Set([7, 5])\n",
      "Right now weights is: Dict{UInt8,Int64}(0x07 => -1,0x03 => 3,0x05 => -1)\n",
      "inside enumerate bset, w is: 0\n",
      "still inside, w is: 3\n",
      "inside enumerate bset, w is: 3\n",
      "still inside, w is: 3\n",
      "after local_fnode etc. w is: 3\n",
      "w_bset is: 3\n",
      "w_intersection is: 2\n",
      "U_frontier is Set(Any[0x07, 0x05])\n",
      "End of loop block weights is: Dict{UInt8,Int64}(0x07 => 4,0x03 => 3,0x05 => 4)\n",
      "Dict{UInt8,Int64}(0x07 => 4,0x03 => 3,0x05 => 4)\n"
     ]
    },
    {
     "data": {
      "text/plain": [
       "true"
      ]
     },
     "execution_count": 205,
     "metadata": {},
     "output_type": "execute_result"
    }
   ],
   "source": [
    "ccs, labels, weights, merged_fps = merge_nodes(fnode, bnode, middle_frontier)\n",
    "cc = check_cc(fnode, bnode, ccs, k) \n",
    "fps = check_fps(fnode, bnode, ccs, labels, merged_fps, middle_frontier)\n",
    "ws = check_weights(fnode, bnode, weights, acceptable)"
   ]
  },
  {
   "cell_type": "code",
   "execution_count": 111,
   "metadata": {},
   "outputs": [
    {
     "data": {
      "text/plain": [
       "Set{Any} with 1 element:\n",
       "  7"
      ]
     },
     "execution_count": 111,
     "metadata": {},
     "output_type": "execute_result"
    }
   ],
   "source": [
    "ccs"
   ]
  },
  {
   "cell_type": "code",
   "execution_count": 50,
   "metadata": {},
   "outputs": [
    {
     "data": {
      "text/plain": [
       "true"
      ]
     },
     "execution_count": 50,
     "metadata": {},
     "output_type": "execute_result"
    }
   ],
   "source": [
    "fps"
   ]
  },
  {
   "cell_type": "code",
   "execution_count": 51,
   "metadata": {},
   "outputs": [
    {
     "data": {
      "text/plain": [
       "false"
      ]
     },
     "execution_count": 51,
     "metadata": {},
     "output_type": "execute_result"
    }
   ],
   "source": [
    "ws"
   ]
  },
  {
   "cell_type": "code",
   "execution_count": 54,
   "metadata": {},
   "outputs": [
    {
     "name": "stdout",
     "output_type": "stream",
     "text": [
      "2\n",
      "3\n",
      "4\n"
     ]
    }
   ],
   "source": [
    "for w in acceptable\n",
    "    println(w)\n",
    "end"
   ]
  },
  {
   "cell_type": "code",
   "execution_count": 43,
   "metadata": {
    "collapsed": true,
    "jupyter": {
     "outputs_hidden": true
    }
   },
   "outputs": [
    {
     "name": "stdout",
     "output_type": "stream",
     "text": [
      "Comparing 20 fnodes to 20 bnodes...\n",
      "\n",
      "(A,1) contributes 1 solns\n",
      "(A,6) contributes 1 solns\n",
      "(A,14) contributes 1 solns\n",
      "(A,20) contributes 1 solns\n",
      "(B,4) contributes 1 solns\n",
      "(B,11) contributes 1 solns\n",
      "(B,17) contributes 1 solns\n",
      "(C,12) contributes 1 solns\n",
      "(C,14) contributes 1 solns\n",
      "(C,20) contributes 1 solns\n",
      "(D,8) contributes 1 solns\n",
      "(E,5) contributes 1 solns\n",
      "(E,8) contributes 1 solns\n",
      "(E,15) contributes 1 solns\n",
      "(E,18) contributes 1 solns\n",
      "(F,4) contributes 1 solns\n",
      "(F,11) contributes 1 solns\n",
      "(G,5) contributes 1 solns\n",
      "(G,6) contributes 1 solns\n",
      "(G,8) contributes 1 solns\n",
      "(G,15) contributes 1 solns\n",
      "(H,10) contributes 1 solns\n",
      "(H,15) contributes 1 solns\n",
      "(H,18) contributes 1 solns\n",
      "(I,7) contributes 1 solns\n",
      "(I,14) contributes 1 solns\n",
      "(I,18) contributes 1 solns\n",
      "(I,20) contributes 1 solns\n",
      "(J,3) contributes 1 solns\n",
      "(J,4) contributes 1 solns\n",
      "(K,13) contributes 1 solns\n",
      "(K,19) contributes 1 solns\n",
      "(L,13) contributes 1 solns\n",
      "(M,5) contributes 1 solns\n",
      "(M,6) contributes 1 solns\n",
      "(N,7) contributes 1 solns\n",
      "(N,14) contributes 1 solns\n",
      "(N,15) contributes 1 solns\n",
      "(N,18) contributes 1 solns\n",
      "(O,9) contributes 1 solns\n",
      "(O,13) contributes 1 solns\n",
      "(O,16) contributes 1 solns\n",
      "(O,19) contributes 1 solns\n",
      "(P,1) contributes 1 solns\n",
      "(P,5) contributes 1 solns\n",
      "(P,6) contributes 1 solns\n",
      "(P,20) contributes 1 solns\n",
      "(Q,1) contributes 1 solns\n",
      "(R,9) contributes 1 solns\n",
      "(R,16) contributes 1 solns\n",
      "(S,2) contributes 1 solns\n",
      "(S,3) contributes 1 solns\n",
      "(S,4) contributes 1 solns\n",
      "(T,16) contributes 1 solns\n"
     ]
    },
    {
     "data": {
      "text/plain": [
       "54"
      ]
     },
     "execution_count": 43,
     "metadata": {},
     "output_type": "execute_result"
    }
   ],
   "source": [
    "count_paths_from_halfway(fnodes, bnodes, middle_frontier, acceptable, k, true)"
   ]
  },
  {
   "cell_type": "code",
   "execution_count": null,
   "metadata": {},
   "outputs": [],
   "source": []
  }
 ],
 "metadata": {
  "kernelspec": {
   "display_name": "Julia 1.5.1",
   "language": "julia",
   "name": "julia-1.5"
  },
  "language_info": {
   "file_extension": ".jl",
   "mimetype": "application/julia",
   "name": "julia",
   "version": "1.5.1"
  }
 },
 "nbformat": 4,
 "nbformat_minor": 4
}
